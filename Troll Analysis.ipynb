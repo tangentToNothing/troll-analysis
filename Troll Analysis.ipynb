{
 "cells": [
  {
   "cell_type": "code",
   "execution_count": 1,
   "metadata": {},
   "outputs": [],
   "source": [
    "import csv\n",
    "import re\n",
    "from textblob import TextBlob\n",
    "import time"
   ]
  },
  {
   "cell_type": "markdown",
   "metadata": {},
   "source": [
    "# Troll Analysis\n",
    "\n",
    "Parse the IRA-linked tweets for various patterns and generate visualizations."
   ]
  },
  {
   "cell_type": "code",
   "execution_count": 2,
   "metadata": {},
   "outputs": [],
   "source": [
    "def parse_tweet(tweet_text):\n",
    "    \"\"\" \n",
    "    Remove links, special chars from tweet_text\n",
    "    \n",
    "    Args\n",
    "    ------\n",
    "    tweet_text : (str) Text of a tweet\n",
    "    \n",
    "    Returns\n",
    "    ------\n",
    "    (str) : Cleaned tweet\n",
    "    \"\"\"\n",
    "    return ' '.join(re.sub(\"(@[A-Za-z0-9]+)|([^0-9A-Za-z \\t])|(\\w+:\\/\\/\\S+)\", \" \", tweet_text).split())"
   ]
  },
  {
   "cell_type": "markdown",
   "metadata": {},
   "source": [
    "## Gather tweets\n",
    "\n",
    "Tweets are in CSV form, must be fetched from https://github.com/fivethirtyeight/russian-troll-tweets (warning, must use `git lfs` because big files)"
   ]
  },
  {
   "cell_type": "code",
   "execution_count": 3,
   "metadata": {},
   "outputs": [],
   "source": [
    "class Tweet(object):\n",
    "    \n",
    "    def __init__(self, tweet_csv_obj):\n",
    "        clean_tweet = parse_tweet(tweet_csv_obj['content'])\n",
    "        self.tweet_text = clean_tweet\n",
    "        self.region = tweet_csv_obj['region']\n",
    "        self.language = tweet_csv_obj['language']\n",
    "        self.publish_date = tweet_csv_obj['publish_date']\n",
    "        self.author_following = tweet_csv_obj['following']\n",
    "        self.author_followers = tweet_csv_obj['followers']\n",
    "        self.account_type = tweet_csv_obj['account_type']\n",
    "        self.account_category = tweet_csv_obj['account_category']\n",
    "        self.author = tweet_csv_obj['author']\n",
    "        self.retweets = tweet_csv_obj['retweet']\n",
    "        self.sentiment = TextBlob(clean_tweet).sentiment.polarity\n",
    "        \n",
    "    def get_tweet_text():\n",
    "        yield self.tweet_text\n",
    "\n",
    "    def get_tweet_sentiment():\n",
    "        yield self.sentiment"
   ]
  },
  {
   "cell_type": "code",
   "execution_count": 4,
   "metadata": {},
   "outputs": [],
   "source": [
    "IRA_TWEETS = \"./IRAhandle_tweets.csv\""
   ]
  },
  {
   "cell_type": "code",
   "execution_count": 5,
   "metadata": {},
   "outputs": [
    {
     "name": "stdout",
     "output_type": "stream",
     "text": [
      "Tweet Parsing took 488.62445282936096 s\n"
     ]
    }
   ],
   "source": [
    "tweets = []\n",
    "start_time = time.time()\n",
    "with open(IRA_TWEETS, 'r') as tweets_csv:\n",
    "    tweet_reader = csv.DictReader(tweets_csv)\n",
    "    for row in tweet_reader:\n",
    "        tweets.append(Tweet(row))\n",
    "time_taken = time.time() - start_time\n",
    "print(\"Tweet Parsing took {} s\".format(time_taken))"
   ]
  },
  {
   "cell_type": "code",
   "execution_count": 9,
   "metadata": {},
   "outputs": [],
   "source": [
    "total_retweets = sum(int(_.retweets) for _ in tweets)"
   ]
  },
  {
   "cell_type": "code",
   "execution_count": 10,
   "metadata": {},
   "outputs": [],
   "source": [
    "import matplotlib.pyplot as plt\n",
    "from matplotlib import colors\n"
   ]
  },
  {
   "cell_type": "code",
   "execution_count": 15,
   "metadata": {},
   "outputs": [
    {
     "data": {
      "text/plain": [
       "(array([ 9464.,   328.,  1625.,   220.,  9709.,  2614.,  7574.,  2425.,\n",
       "        11711.,  2302., 35937., 26170.,  7328., 29020.,  9165., 70651.,\n",
       "        50564., 59587., 52096., 22512.]),\n",
       " array([-1.00000000e+00, -9.50000000e-01, -9.00000000e-01, -8.50000000e-01,\n",
       "        -8.00000000e-01, -7.50000000e-01, -7.00000000e-01, -6.50000000e-01,\n",
       "        -6.00000000e-01, -5.50000000e-01, -5.00000000e-01, -4.50000000e-01,\n",
       "        -4.00000000e-01, -3.50000000e-01, -3.00000000e-01, -2.50000000e-01,\n",
       "        -2.00000000e-01, -1.50000000e-01, -1.00000000e-01, -5.00000000e-02,\n",
       "        -3.96508223e-18]),\n",
       " <a list of 20 Patch objects>)"
      ]
     },
     "execution_count": 15,
     "metadata": {},
     "output_type": "execute_result"
    },
    {
     "name": "stderr",
     "output_type": "stream",
     "text": [
      "/usr/local/anaconda3/envs/troll-analysis/lib/python3.7/site-packages/matplotlib/figure.py:2267: UserWarning: This figure includes Axes that are not compatible with tight_layout, so results might be incorrect.\n",
      "  warnings.warn(\"This figure includes Axes that are not compatible \"\n"
     ]
    },
    {
     "data": {
      "image/png": "[encoded data removed]",
      "text/plain": [
       "<Figure size 432x288 with 2 Axes>"
      ]
     },
     "metadata": {},
     "output_type": "display_data"
    }
   ],
   "source": [
    "positive_tweets = list(filter(lambda tweet: tweet.sentiment > 0, tweets))\n",
    "negative_tweets = list(filter(lambda tweet: tweet.sentiment < 0, tweets))\n",
    "\n",
    "n_bins = 20\n",
    "fig, axs = plt.subplots(1, 2, sharey=True, tight_layout=True)\n",
    "\n",
    "positive_sentiments = [_.sentiment for _ in positive_tweets]\n",
    "negative_sentiments = [_.sentiment for _ in negative_tweets]\n",
    "axs[0].hist(positive_sentiments, bins=n_bins)\n",
    "axs[1].hist(negative_sentiments, bins=n_bins)"
   ]
  },
  {
   "cell_type": "code",
   "execution_count": null,
   "metadata": {},
   "outputs": [],
   "source": []
  }
 ],
 "metadata": {
  "kernelspec": {
   "display_name": "Python 3",
   "language": "python",
   "name": "python3"
  },
  "language_info": {
   "codemirror_mode": {
    "name": "ipython",
    "version": 3
   },
   "file_extension": ".py",
   "mimetype": "text/x-python",
   "name": "python",
   "nbconvert_exporter": "python",
   "pygments_lexer": "ipython3",
   "version": "3.7.0"
  }
 },
 "nbformat": 4,
 "nbformat_minor": 2
}
